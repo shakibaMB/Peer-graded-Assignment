{
 "cells": [
  {
   "cell_type": "code",
   "execution_count": 1,
   "id": "e6ac7cf4",
   "metadata": {},
   "outputs": [],
   "source": [
    "import yfinance as yf\n"
   ]
  },
  {
   "cell_type": "code",
   "execution_count": 2,
   "id": "6ec0c279",
   "metadata": {},
   "outputs": [
    {
     "name": "stderr",
     "output_type": "stream",
     "text": [
      "\r",
      "[*********************100%%**********************]  1 of 1 completed"
     ]
    },
    {
     "name": "stdout",
     "output_type": "stream",
     "text": [
      "        Date       Open       High        Low      Close  Adj Close   Volume\n",
      "0 2023-01-03  18.639999  19.260000  17.090000  17.200001  17.200001  5135200\n",
      "1 2023-01-04  17.250000  17.930000  16.900000  17.320000  17.320000  3939300\n",
      "2 2023-01-05  17.059999  17.260000  15.890000  16.219999  16.219999  6066200\n",
      "3 2023-01-06  16.000000  16.570000  15.410000  16.459999  16.459999  4823400\n",
      "4 2023-01-09  16.650000  17.129999  16.360001  16.379999  16.379999  3522600\n"
     ]
    },
    {
     "name": "stderr",
     "output_type": "stream",
     "text": [
      "\n"
     ]
    }
   ],
   "source": [
    "# Define the stock symbol and time range for GameStop (GME)\n",
    "stock_symbol_gme = \"GME\"\n",
    "start_date = \"2023-01-01\"\n",
    "end_date = \"2024-01-01\"\n",
    "\n",
    "# Fetch GameStop stock data\n",
    "gme_stock_data = yf.download(stock_symbol_gme, start=start_date, end=end_date)\n",
    "\n",
    "# Reset the index\n",
    "gme_stock_data.reset_index(inplace=True)\n",
    "\n",
    "# Save the data to a CSV file\n",
    "gme_stock_data.to_csv(\"gme_stock_data.csv\", index=False)\n",
    "\n",
    "# Display the first five rows\n",
    "print(gme_stock_data.head())\n"
   ]
  },
  {
   "cell_type": "code",
   "execution_count": null,
   "id": "3ff5abfe",
   "metadata": {},
   "outputs": [],
   "source": []
  }
 ],
 "metadata": {
  "kernelspec": {
   "display_name": "Python 3 (ipykernel)",
   "language": "python",
   "name": "python3"
  },
  "language_info": {
   "codemirror_mode": {
    "name": "ipython",
    "version": 3
   },
   "file_extension": ".py",
   "mimetype": "text/x-python",
   "name": "python",
   "nbconvert_exporter": "python",
   "pygments_lexer": "ipython3",
   "version": "3.9.7"
  }
 },
 "nbformat": 4,
 "nbformat_minor": 5
}
