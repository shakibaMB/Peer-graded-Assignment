{
 "cells": [
  {
   "cell_type": "code",
   "execution_count": 1,
   "id": "7a7c5654",
   "metadata": {},
   "outputs": [],
   "source": [
    "import requests\n",
    "from bs4 import BeautifulSoup\n"
   ]
  },
  {
   "cell_type": "code",
   "execution_count": 3,
   "id": "bacec4bd",
   "metadata": {},
   "outputs": [
    {
     "name": "stdout",
     "output_type": "stream",
     "text": [
      "N/A\n"
     ]
    }
   ],
   "source": [
    "# Replace 'tesla_revenue_url' with the actual URL where Tesla revenue data is available\n",
    "tesla_revenue_url = \"https://example.com/tesla-revenue\"\n",
    "\n",
    "# Fetch the HTML content\n",
    "response = requests.get(tesla_revenue_url)\n",
    "soup = BeautifulSoup(response.text, 'html.parser')\n",
    "\n",
    "# Extract the revenue information\n",
    "revenue_element = soup.find(\"span\", class_=\"revenue\")\n",
    "tesla_revenue = revenue_element.text if revenue_element else \"N/A\"\n",
    "\n",
    "# Display the last five rows\n",
    "print(tesla_revenue[-5:])\n"
   ]
  },
  {
   "cell_type": "code",
   "execution_count": null,
   "id": "9f05b54e",
   "metadata": {},
   "outputs": [],
   "source": []
  }
 ],
 "metadata": {
  "kernelspec": {
   "display_name": "Python 3 (ipykernel)",
   "language": "python",
   "name": "python3"
  },
  "language_info": {
   "codemirror_mode": {
    "name": "ipython",
    "version": 3
   },
   "file_extension": ".py",
   "mimetype": "text/x-python",
   "name": "python",
   "nbconvert_exporter": "python",
   "pygments_lexer": "ipython3",
   "version": "3.9.7"
  }
 },
 "nbformat": 4,
 "nbformat_minor": 5
}
